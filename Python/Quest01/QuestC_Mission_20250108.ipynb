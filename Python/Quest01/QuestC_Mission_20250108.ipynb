{
  "nbformat": 4,
  "nbformat_minor": 0,
  "metadata": {
    "colab": {
      "provenance": [],
      "include_colab_link": true
    },
    "kernelspec": {
      "name": "python3",
      "display_name": "Python 3"
    },
    "language_info": {
      "name": "python"
    }
  },
  "cells": [
    {
      "cell_type": "markdown",
      "metadata": {
        "id": "view-in-github",
        "colab_type": "text"
      },
      "source": [
        "<a href=\"https://colab.research.google.com/github/dev-ranger/AIFFELL_quest/blob/main/Python/Quest01/QuestC_Mission_20250108.ipynb\" target=\"_parent\"><img src=\"https://colab.research.google.com/assets/colab-badge.svg\" alt=\"Open In Colab\"/></a>"
      ]
    },
    {
      "cell_type": "code",
      "execution_count": null,
      "metadata": {
        "id": "JBLCqJ2zV1My",
        "colab": {
          "base_uri": "https://localhost:8080/"
        },
        "outputId": "4c0b7d82-6f38-476c-81a7-0a884b1099c0"
      },
      "outputs": [
        {
          "output_type": "stream",
          "name": "stdout",
          "text": [
            "단어를 입력하세요:우성우\n",
            "뒤집힌 단어는:우성우\n",
            "입력된 단어는: 회문입니다.\n"
          ]
        }
      ],
      "source": [
        "'''\n",
        "입력값 = (사용자가 입력 행위를 진행함)\n",
        "입력값 출력 <- 한번 확인은 해야하니까\n",
        "입력값을 거꾸로 바꾸는 기능 실행\n",
        "거꾸로된 입력값 에 해당 값 입력\n",
        "제어문으로 두 값이 같은지 여부에 대해서 비교하는 기능\n",
        "위에 비교로 인해 나온 결과로 회문이 맞는지 아닌지 출력하는 기능\n",
        "'''\n",
        "\n",
        "\n",
        "# 함수 : 사용자로부터 입력\n",
        "def input_from_user():\n",
        "  return str(input(\"단어를 입력하세요:\"))\n",
        "\n",
        "# 함수 : 입력된 단어를 뒤집기\n",
        "def reverse(word):\n",
        "  reversed_word = \"\"\n",
        "  for i in range(len(word),0,-1):\n",
        "# 거꾸로 출력 확인\n",
        "#   print(word[i-1])\n",
        "    reversed_word += word[i-1]\n",
        "  return reversed_word\n",
        "\n",
        "def check_to_palindrome(reversed_word, word):\n",
        "  if reversed_word == word:\n",
        "    print(\"입력된 단어는: 회문입니다.\")\n",
        "  else:\n",
        "    print(\"입력된 단어는: 회문이 아닙니다.\")\n",
        "\n",
        "\n",
        "\n",
        "# 사용자 입력 실행 하여 word 변수에 담기\n",
        "word = input_from_user()\n",
        "\n",
        "# 사용자로부터 입력받은 단어를 뒤집는 기능 실행 및 변수에 담기\n",
        "reversed_word = reverse(word)\n",
        "\n",
        "# 변경한 값을 확인 합니다.\n",
        "print(\"뒤집힌 단어는:\"+reversed_word)\n",
        "\n",
        "# 회분인지 여부 를 확인 한 후 출력\n",
        "check_to_palindrome(reversed_word, word)\n",
        "\n",
        "\n",
        "# #입력받은 단어의 전체길이 확인\n",
        "# len (word)\n",
        "# print(len (word))\n",
        "\n",
        "# #입력 받은 단어의 인덱스들을 확인 하기 위한 기본 작업\n",
        "\n",
        "# #기본 방향으로 출력해보자 (인덱스)\n",
        "# # for i in range(0,len(word)):\n",
        "# #   print(i)\n",
        "\n",
        "# #거꾸로 출력 해보자 (인덱스)\n",
        "# print(\"거꾸로 인덱스만 출력해보자\")\n",
        "# for i in range(len(word),0,-1):\n",
        "#   print(i-1)\n",
        "\n",
        "# reversed_word = \"\"\n",
        "# for i in range(len(word),0,-1):\n",
        "#   print(word[i-1])\n",
        "#   reversed_word += word[i-1]\n",
        "\n",
        "# # print('다시 확인 ')\n",
        "# # print(word[2])\n",
        "# # print(word[1])\n",
        "# # print(word[0])\n",
        "# #다시 출력으로 확인\n",
        "# print(reversed_word)\n",
        "\n",
        "# # print('range 확인 :',range(0,len(word)))\n"
      ]
    },
    {
      "cell_type": "code",
      "source": [],
      "metadata": {
        "id": "okzHF3mHl0xx"
      },
      "execution_count": null,
      "outputs": []
    }
  ]
}