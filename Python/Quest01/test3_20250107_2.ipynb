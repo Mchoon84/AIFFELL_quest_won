{
  "nbformat": 4,
  "nbformat_minor": 0,
  "metadata": {
    "colab": {
      "provenance": [],
      "include_colab_link": true
    },
    "kernelspec": {
      "name": "python3",
      "display_name": "Python 3"
    },
    "language_info": {
      "name": "python"
    }
  },
  "cells": [
    {
      "cell_type": "markdown",
      "metadata": {
        "id": "view-in-github",
        "colab_type": "text"
      },
      "source": [
        "<a href=\"https://colab.research.google.com/github/dev-ranger/AIFFELL_quest/blob/main/Python/Quest01/test3_20250107_2.ipynb\" target=\"_parent\"><img src=\"https://colab.research.google.com/assets/colab-badge.svg\" alt=\"Open In Colab\"/></a>"
      ]
    },
    {
      "cell_type": "code",
      "execution_count": null,
      "metadata": {
        "id": "zy-edbjAQvQW",
        "outputId": "8b5880a8-2368-4d6f-a9f2-1fc603a1f746",
        "colab": {
          "base_uri": "https://localhost:8080/"
        }
      },
      "outputs": [
        {
          "output_type": "stream",
          "name": "stdout",
          "text": [
            "hello World\n",
            "Sun\n"
          ]
        }
      ],
      "source": [
        "print(\"hello World\")\n",
        "print(\"Sun\")"
      ]
    },
    {
      "cell_type": "code",
      "source": [
        "print(\"sun\")"
      ],
      "metadata": {
        "colab": {
          "base_uri": "https://localhost:8080/"
        },
        "id": "Z57e2kONRlTN",
        "outputId": "c6f0c76d-45be-469b-cec2-90a554753968"
      },
      "execution_count": null,
      "outputs": [
        {
          "output_type": "stream",
          "name": "stdout",
          "text": [
            "sun\n"
          ]
        }
      ]
    }
  ]
}